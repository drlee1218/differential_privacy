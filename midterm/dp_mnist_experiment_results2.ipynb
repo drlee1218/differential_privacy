{
 "cells": [
  {
   "cell_type": "markdown",
   "id": "c839a377",
   "metadata": {},
   "source": [
    "\n",
    "# Deep Learning with Differential Privacy on MNIST\n",
    "\n",
    "This notebook reproduces and extends the experiment from Abadi et al. (2016) using TensorFlow Privacy.  \n",
    "It compares model performance with and without Differential Privacy (DP), using the MNIST dataset.\n",
    "\n",
    "**Goals**:\n",
    "- Evaluate the impact of DP on accuracy.\n",
    "- Compare multiple noise multipliers.\n",
    "- Plot ε vs accuracy.\n"
   ]
  },
  {
   "cell_type": "code",
   "execution_count": 1,
   "id": "d256faf5",
   "metadata": {},
   "outputs": [
    {
     "name": "stderr",
     "output_type": "stream",
     "text": [
      "2025-04-11 12:31:36.556528: I tensorflow/tsl/cuda/cudart_stub.cc:28] Could not find cuda drivers on your machine, GPU will not be used.\n",
      "2025-04-11 12:31:36.641311: I tensorflow/tsl/cuda/cudart_stub.cc:28] Could not find cuda drivers on your machine, GPU will not be used.\n",
      "2025-04-11 12:31:36.642773: I tensorflow/core/platform/cpu_feature_guard.cc:182] This TensorFlow binary is optimized to use available CPU instructions in performance-critical operations.\n",
      "To enable the following instructions: AVX2 FMA, in other operations, rebuild TensorFlow with the appropriate compiler flags.\n",
      "2025-04-11 12:31:37.604123: W tensorflow/compiler/tf2tensorrt/utils/py_utils.cc:38] TF-TRT Warning: Could not find TensorRT\n"
     ]
    }
   ],
   "source": [
    "\n",
    "import numpy as np\n",
    "import tensorflow as tf\n",
    "import matplotlib.pyplot as plt\n",
    "from tensorflow.keras.datasets import mnist\n",
    "from tensorflow.keras.models import Sequential\n",
    "from tensorflow.keras.layers import Flatten, Dense\n",
    "from tensorflow_privacy.privacy.optimizers.dp_optimizer_keras import DPKerasSGDOptimizer\n",
    "from tensorflow_privacy.privacy.analysis import compute_dp_sgd_privacy\n",
    "\n",
    "(x_train, y_train), (x_test, y_test) = mnist.load_data()\n",
    "x_train, x_test = x_train / 255.0, x_test / 255.0\n",
    "y_train, y_test = y_train.astype(np.int32), y_test.astype(np.int32)\n"
   ]
  },
  {
   "cell_type": "markdown",
   "id": "df36735a-5d39-4344-bfc2-ed8faafdfda3",
   "metadata": {},
   "source": [
    "The model is a simple feedforward neural network, consistent with the Abadi et al. paper, and appropriate for a small dataset like MNIST."
   ]
  },
  {
   "cell_type": "code",
   "execution_count": 2,
   "id": "0be5dc1b",
   "metadata": {},
   "outputs": [],
   "source": [
    "\n",
    "def create_model():\n",
    "    model = Sequential([\n",
    "        Flatten(input_shape=(28, 28)),\n",
    "        Dense(128, activation='relu'),\n",
    "        Dense(10)\n",
    "    ])\n",
    "    return model\n"
   ]
  },
  {
   "cell_type": "code",
   "execution_count": 3,
   "id": "735f3d30",
   "metadata": {},
   "outputs": [],
   "source": [
    "\n",
    "def train_model(dp=True, noise_multiplier=1.1, epochs=10):\n",
    "    model = create_model()\n",
    "    metrics = ['accuracy']\n",
    "\n",
    "    if dp:\n",
    "        optimizer = DPKerasSGDOptimizer(\n",
    "            l2_norm_clip=1.0,\n",
    "            noise_multiplier=noise_multiplier,\n",
    "            num_microbatches=250,\n",
    "            learning_rate=0.15)\n",
    "    else:\n",
    "        # Option to train the model without differential privacy for comparison\n",
    "        optimizer = tf.keras.optimizers.SGD(learning_rate=0.15)\n",
    "\n",
    "    if dp:\n",
    "        loss = tf.keras.losses.SparseCategoricalCrossentropy(\n",
    "            from_logits=True,\n",
    "            reduction=tf.keras.losses.Reduction.NONE\n",
    "        )\n",
    "    else:\n",
    "        loss = tf.keras.losses.SparseCategoricalCrossentropy(\n",
    "            from_logits=True,\n",
    "            reduction=tf.keras.losses.Reduction.SUM_OVER_BATCH_SIZE\n",
    "        )\n",
    "\n",
    "    model.compile(optimizer=optimizer, loss=loss, metrics=metrics)\n",
    "    model.fit(x_train, y_train,\n",
    "              epochs=epochs,\n",
    "              validation_data=(x_test, y_test),\n",
    "              batch_size=250,\n",
    "              verbose=2)\n",
    "\n",
    "    _, acc = model.evaluate(x_test, y_test, verbose=0)\n",
    "\n",
    "    if dp:\n",
    "        eps, _ = compute_dp_sgd_privacy.compute_dp_sgd_privacy(\n",
    "            n=x_train.shape[0],\n",
    "            batch_size=250,\n",
    "            noise_multiplier=noise_multiplier,\n",
    "            epochs=epochs,\n",
    "            delta=1e-5)\n",
    "    else:\n",
    "        eps = float('inf')\n",
    "\n",
    "    return eps, acc\n"
   ]
  },
  {
   "cell_type": "code",
   "execution_count": 4,
   "id": "b09823e9",
   "metadata": {},
   "outputs": [
    {
     "name": "stdout",
     "output_type": "stream",
     "text": [
      "Running baseline (no differential privacy)...\n"
     ]
    },
    {
     "name": "stderr",
     "output_type": "stream",
     "text": [
      "2025-04-11 12:31:41.302040: I tensorflow/compiler/xla/stream_executor/cuda/cuda_gpu_executor.cc:982] could not open file to read NUMA node: /sys/bus/pci/devices/0000:01:00.0/numa_node\n",
      "Your kernel may have been built without NUMA support.\n",
      "2025-04-11 12:31:41.302518: W tensorflow/core/common_runtime/gpu/gpu_device.cc:1956] Cannot dlopen some GPU libraries. Please make sure the missing libraries mentioned above are installed properly if you would like to use GPU. Follow the guide at https://www.tensorflow.org/install/gpu for how to download and setup the required libraries for your platform.\n",
      "Skipping registering GPU devices...\n"
     ]
    },
    {
     "name": "stdout",
     "output_type": "stream",
     "text": [
      "Epoch 1/10\n",
      "240/240 - 1s - loss: 0.5271 - accuracy: 0.8571 - val_loss: 0.3010 - val_accuracy: 0.9166 - 1s/epoch - 4ms/step\n",
      "Epoch 2/10\n",
      "240/240 - 1s - loss: 0.2854 - accuracy: 0.9182 - val_loss: 0.2440 - val_accuracy: 0.9312 - 587ms/epoch - 2ms/step\n",
      "Epoch 3/10\n",
      "240/240 - 1s - loss: 0.2361 - accuracy: 0.9335 - val_loss: 0.2102 - val_accuracy: 0.9406 - 581ms/epoch - 2ms/step\n",
      "Epoch 4/10\n",
      "240/240 - 1s - loss: 0.2038 - accuracy: 0.9428 - val_loss: 0.1896 - val_accuracy: 0.9443 - 604ms/epoch - 3ms/step\n",
      "Epoch 5/10\n",
      "240/240 - 1s - loss: 0.1800 - accuracy: 0.9496 - val_loss: 0.1694 - val_accuracy: 0.9515 - 596ms/epoch - 2ms/step\n",
      "Epoch 6/10\n",
      "240/240 - 1s - loss: 0.1614 - accuracy: 0.9549 - val_loss: 0.1563 - val_accuracy: 0.9547 - 1s/epoch - 5ms/step\n",
      "Epoch 7/10\n",
      "240/240 - 1s - loss: 0.1465 - accuracy: 0.9590 - val_loss: 0.1407 - val_accuracy: 0.9588 - 941ms/epoch - 4ms/step\n",
      "Epoch 8/10\n",
      "240/240 - 1s - loss: 0.1343 - accuracy: 0.9623 - val_loss: 0.1324 - val_accuracy: 0.9602 - 786ms/epoch - 3ms/step\n",
      "Epoch 9/10\n",
      "240/240 - 1s - loss: 0.1233 - accuracy: 0.9655 - val_loss: 0.1270 - val_accuracy: 0.9641 - 695ms/epoch - 3ms/step\n",
      "Epoch 10/10\n",
      "240/240 - 1s - loss: 0.1143 - accuracy: 0.9685 - val_loss: 0.1206 - val_accuracy: 0.9648 - 614ms/epoch - 3ms/step\n",
      "Baseline accuracy: 0.9648 (ε = ∞)\n"
     ]
    }
   ],
   "source": [
    "\n",
    "print(\"Running baseline (no differential privacy)...\")\n",
    "baseline_eps, baseline_acc = train_model(dp=False)\n",
    "print(f\"Baseline accuracy: {baseline_acc:.4f} (ε = ∞)\")\n"
   ]
  },
  {
   "cell_type": "code",
   "execution_count": 5,
   "id": "497c803c",
   "metadata": {},
   "outputs": [
    {
     "name": "stdout",
     "output_type": "stream",
     "text": [
      "Training with noise_multiplier = 0.5\n",
      "Epoch 1/10\n",
      "240/240 - 33s - loss: 1.2568 - accuracy: 0.6445 - val_loss: 0.6807 - val_accuracy: 0.7968 - 33s/epoch - 139ms/step\n",
      "Epoch 2/10\n",
      "240/240 - 31s - loss: 0.5728 - accuracy: 0.8206 - val_loss: 0.4738 - val_accuracy: 0.8500 - 31s/epoch - 127ms/step\n",
      "Epoch 3/10\n",
      "240/240 - 32s - loss: 0.4627 - accuracy: 0.8565 - val_loss: 0.4172 - val_accuracy: 0.8731 - 32s/epoch - 132ms/step\n",
      "Epoch 4/10\n",
      "240/240 - 30s - loss: 0.4279 - accuracy: 0.8721 - val_loss: 0.3936 - val_accuracy: 0.8842 - 30s/epoch - 123ms/step\n",
      "Epoch 5/10\n",
      "240/240 - 34s - loss: 0.4130 - accuracy: 0.8808 - val_loss: 0.3838 - val_accuracy: 0.8926 - 34s/epoch - 141ms/step\n",
      "Epoch 6/10\n",
      "240/240 - 34s - loss: 0.4039 - accuracy: 0.8870 - val_loss: 0.3774 - val_accuracy: 0.8980 - 34s/epoch - 141ms/step\n",
      "Epoch 7/10\n",
      "240/240 - 35s - loss: 0.3986 - accuracy: 0.8915 - val_loss: 0.3727 - val_accuracy: 0.9015 - 35s/epoch - 144ms/step\n",
      "Epoch 8/10\n",
      "240/240 - 34s - loss: 0.3946 - accuracy: 0.8953 - val_loss: 0.3706 - val_accuracy: 0.9039 - 34s/epoch - 142ms/step\n",
      "Epoch 9/10\n",
      "240/240 - 31s - loss: 0.3907 - accuracy: 0.8985 - val_loss: 0.3674 - val_accuracy: 0.9057 - 31s/epoch - 131ms/step\n",
      "Epoch 10/10\n",
      "240/240 - 30s - loss: 0.3876 - accuracy: 0.9005 - val_loss: 0.3654 - val_accuracy: 0.9063 - 30s/epoch - 124ms/step\n",
      "DP-SGD with sampling rate = 0.417% and noise_multiplier = 0.5 iterated over 2400 steps satisfies differential privacy with eps = 11.1 and delta = 1e-05.\n",
      "The optimal RDP order is 2.25.\n",
      "Training with noise_multiplier = 1.1\n",
      "Epoch 1/10\n",
      "240/240 - 31s - loss: 1.2287 - accuracy: 0.6555 - val_loss: 0.6750 - val_accuracy: 0.7873 - 31s/epoch - 128ms/step\n",
      "Epoch 2/10\n",
      "240/240 - 35s - loss: 0.5768 - accuracy: 0.8159 - val_loss: 0.4662 - val_accuracy: 0.8529 - 35s/epoch - 145ms/step\n",
      "Epoch 3/10\n",
      "240/240 - 33s - loss: 0.4684 - accuracy: 0.8550 - val_loss: 0.4209 - val_accuracy: 0.8709 - 33s/epoch - 138ms/step\n",
      "Epoch 4/10\n",
      "240/240 - 32s - loss: 0.4365 - accuracy: 0.8704 - val_loss: 0.3999 - val_accuracy: 0.8825 - 32s/epoch - 135ms/step\n",
      "Epoch 5/10\n",
      "240/240 - 32s - loss: 0.4186 - accuracy: 0.8792 - val_loss: 0.3893 - val_accuracy: 0.8887 - 32s/epoch - 133ms/step\n",
      "Epoch 6/10\n",
      "240/240 - 32s - loss: 0.4108 - accuracy: 0.8852 - val_loss: 0.3819 - val_accuracy: 0.8939 - 32s/epoch - 132ms/step\n",
      "Epoch 7/10\n",
      "240/240 - 31s - loss: 0.4067 - accuracy: 0.8899 - val_loss: 0.3804 - val_accuracy: 0.8983 - 31s/epoch - 131ms/step\n",
      "Epoch 8/10\n",
      "240/240 - 34s - loss: 0.4036 - accuracy: 0.8935 - val_loss: 0.3761 - val_accuracy: 0.9009 - 34s/epoch - 142ms/step\n",
      "Epoch 9/10\n",
      "240/240 - 38s - loss: 0.3999 - accuracy: 0.8964 - val_loss: 0.3750 - val_accuracy: 0.9029 - 38s/epoch - 159ms/step\n",
      "Epoch 10/10\n",
      "240/240 - 37s - loss: 0.3983 - accuracy: 0.8987 - val_loss: 0.3733 - val_accuracy: 0.9055 - 37s/epoch - 153ms/step\n",
      "DP-SGD with sampling rate = 0.417% and noise_multiplier = 1.1 iterated over 2400 steps satisfies differential privacy with eps = 1.09 and delta = 1e-05.\n",
      "The optimal RDP order is 12.0.\n",
      "Training with noise_multiplier = 2.0\n",
      "Epoch 1/10\n",
      "240/240 - 37s - loss: 1.2159 - accuracy: 0.6454 - val_loss: 0.6561 - val_accuracy: 0.7914 - 37s/epoch - 154ms/step\n",
      "Epoch 2/10\n",
      "240/240 - 35s - loss: 0.5543 - accuracy: 0.8258 - val_loss: 0.4551 - val_accuracy: 0.8554 - 35s/epoch - 147ms/step\n",
      "Epoch 3/10\n",
      "240/240 - 33s - loss: 0.4554 - accuracy: 0.8600 - val_loss: 0.4097 - val_accuracy: 0.8751 - 33s/epoch - 137ms/step\n",
      "Epoch 4/10\n",
      "240/240 - 32s - loss: 0.4295 - accuracy: 0.8738 - val_loss: 0.3970 - val_accuracy: 0.8846 - 32s/epoch - 135ms/step\n",
      "Epoch 5/10\n",
      "240/240 - 32s - loss: 0.4197 - accuracy: 0.8803 - val_loss: 0.3861 - val_accuracy: 0.8926 - 32s/epoch - 135ms/step\n",
      "Epoch 6/10\n",
      "240/240 - 32s - loss: 0.4126 - accuracy: 0.8853 - val_loss: 0.3823 - val_accuracy: 0.8964 - 32s/epoch - 134ms/step\n",
      "Epoch 7/10\n",
      "240/240 - 32s - loss: 0.4093 - accuracy: 0.8897 - val_loss: 0.3816 - val_accuracy: 0.8989 - 32s/epoch - 135ms/step\n",
      "Epoch 8/10\n",
      "240/240 - 33s - loss: 0.4095 - accuracy: 0.8927 - val_loss: 0.3835 - val_accuracy: 0.9001 - 33s/epoch - 135ms/step\n",
      "Epoch 9/10\n",
      "240/240 - 32s - loss: 0.4073 - accuracy: 0.8948 - val_loss: 0.3853 - val_accuracy: 0.9035 - 32s/epoch - 135ms/step\n",
      "Epoch 10/10\n",
      "240/240 - 32s - loss: 0.4067 - accuracy: 0.8968 - val_loss: 0.3854 - val_accuracy: 0.9034 - 32s/epoch - 135ms/step\n",
      "DP-SGD with sampling rate = 0.417% and noise_multiplier = 2.0 iterated over 2400 steps satisfies differential privacy with eps = 0.421 and delta = 1e-05.\n",
      "The optimal RDP order is 36.0.\n",
      "Training with noise_multiplier = 3.0\n",
      "Epoch 1/10\n",
      "240/240 - 34s - loss: 1.2360 - accuracy: 0.6416 - val_loss: 0.6724 - val_accuracy: 0.7917 - 34s/epoch - 142ms/step\n",
      "Epoch 2/10\n",
      "240/240 - 33s - loss: 0.5716 - accuracy: 0.8236 - val_loss: 0.4741 - val_accuracy: 0.8523 - 33s/epoch - 137ms/step\n",
      "Epoch 3/10\n",
      "240/240 - 33s - loss: 0.4756 - accuracy: 0.8552 - val_loss: 0.4360 - val_accuracy: 0.8703 - 33s/epoch - 136ms/step\n",
      "Epoch 4/10\n",
      "240/240 - 35s - loss: 0.4470 - accuracy: 0.8677 - val_loss: 0.4206 - val_accuracy: 0.8818 - 35s/epoch - 148ms/step\n",
      "Epoch 5/10\n",
      "240/240 - 33s - loss: 0.4357 - accuracy: 0.8766 - val_loss: 0.4120 - val_accuracy: 0.8853 - 33s/epoch - 137ms/step\n",
      "Epoch 6/10\n",
      "240/240 - 33s - loss: 0.4344 - accuracy: 0.8823 - val_loss: 0.4144 - val_accuracy: 0.8881 - 33s/epoch - 136ms/step\n",
      "Epoch 7/10\n",
      "240/240 - 33s - loss: 0.4308 - accuracy: 0.8856 - val_loss: 0.4044 - val_accuracy: 0.8966 - 33s/epoch - 138ms/step\n",
      "Epoch 8/10\n",
      "240/240 - 33s - loss: 0.4325 - accuracy: 0.8875 - val_loss: 0.4090 - val_accuracy: 0.8969 - 33s/epoch - 138ms/step\n",
      "Epoch 9/10\n",
      "240/240 - 32s - loss: 0.4348 - accuracy: 0.8902 - val_loss: 0.4097 - val_accuracy: 0.8966 - 32s/epoch - 134ms/step\n",
      "Epoch 10/10\n",
      "240/240 - 32s - loss: 0.4390 - accuracy: 0.8911 - val_loss: 0.4132 - val_accuracy: 0.8994 - 32s/epoch - 135ms/step\n",
      "DP-SGD with sampling rate = 0.417% and noise_multiplier = 3.0 iterated over 2400 steps satisfies differential privacy with eps = 0.259 and delta = 1e-05.\n",
      "The optimal RDP order is 55.0.\n"
     ]
    }
   ],
   "source": [
    "\n",
    "noise_multipliers = [0.5, 1.1, 2.0, 3.0]\n",
    "dp_results = []\n",
    "\n",
    "for nm in noise_multipliers:\n",
    "    print(f\"Training with noise_multiplier = {nm}\")\n",
    "    eps, acc = train_model(dp=True, noise_multiplier=nm)\n",
    "    dp_results.append({'noise_multiplier': nm, 'epsilon': eps, 'accuracy': acc})\n"
   ]
  },
  {
   "cell_type": "code",
   "execution_count": 6,
   "id": "8a1dc7c9",
   "metadata": {},
   "outputs": [
    {
     "data": {
      "image/png": "[encoded data removed]",
      "text/plain": [
       "<Figure size 1000x600 with 1 Axes>"
      ]
     },
     "metadata": {},
     "output_type": "display_data"
    },
    {
     "name": "stdout",
     "output_type": "stream",
     "text": [
      "  Noise Multiplier  Final Accuracy Epsilon (Privacy Budget)\n",
      "0              0.5          0.9063                11.091833\n",
      "1              1.1          0.9055                 1.088233\n",
      "2              2.0          0.9034                 0.421371\n",
      "3              3.0          0.8994                 0.259054\n",
      "4  ∞ (Non-private)          0.9648                        ∞\n"
     ]
    }
   ],
   "source": [
    "\n",
    "epsilons = [r[\"epsilon\"] for r in dp_results]\n",
    "accuracies = [r[\"accuracy\"] for r in dp_results]\n",
    "\n",
    "plt.figure(figsize=(10, 6))\n",
    "plt.plot(epsilons, accuracies, marker='o', label='DP Models')\n",
    "plt.axhline(y=baseline_acc, color='red', label='Non-private baseline')\n",
    "plt.xlabel(\"Privacy Budget ε (lower = more private)\")\n",
    "plt.ylabel(\"Test Accuracy\")\n",
    "plt.title(\"Accuracy vs Privacy: Differential Privacy in MNIST\")\n",
    "plt.legend()\n",
    "plt.grid(True)\n",
    "plt.gca().invert_xaxis()\n",
    "plt.tight_layout()\n",
    "plt.show()\n",
    "\n",
    "import pandas as pd\n",
    "\n",
    "# Prepare data for the table\n",
    "dp_results_table = []\n",
    "for result in dp_results:\n",
    "    dp_results_table.append({\n",
    "        'Noise Multiplier': result[\"noise_multiplier\"],\n",
    "        'Final Accuracy': result[\"accuracy\"],\n",
    "        'Epsilon (Privacy Budget)': result[\"epsilon\"]\n",
    "    })\n",
    "\n",
    "# Add baseline result to the table\n",
    "dp_results_table.append({\n",
    "    'Noise Multiplier': '∞ (Non-private)',\n",
    "    'Final Accuracy': baseline_acc,\n",
    "    'Epsilon (Privacy Budget)': '∞'\n",
    "})\n",
    "\n",
    "# Convert to pandas DataFrame for better formatting\n",
    "results_df = pd.DataFrame(dp_results_table)\n",
    "\n",
    "# Display the table\n",
    "print(results_df)\n"
   ]
  }
 ],
 "metadata": {
  "kernelspec": {
   "display_name": "Python 3 (ipykernel)",
   "language": "python",
   "name": "python3"
  },
  "language_info": {
   "codemirror_mode": {
    "name": "ipython",
    "version": 3
   },
   "file_extension": ".py",
   "mimetype": "text/x-python",
   "name": "python",
   "nbconvert_exporter": "python",
   "pygments_lexer": "ipython3",
   "version": "3.10.12"
  }
 },
 "nbformat": 4,
 "nbformat_minor": 5
}
